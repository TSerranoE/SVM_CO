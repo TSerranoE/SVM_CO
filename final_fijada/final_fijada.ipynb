{
 "cells": [
  {
   "cell_type": "code",
   "execution_count": 7,
   "metadata": {},
   "outputs": [],
   "source": [
    "using OptimalControl\n",
    "using NLPModelsIpopt\n",
    "using Plots"
   ]
  },
  {
   "cell_type": "code",
   "execution_count": null,
   "metadata": {},
   "outputs": [
    {
     "ename": "ParsingError",
     "evalue": "ParsingError: \nLine 6: D2{x} == -gamma * x(t) + u(t)\nbad constraint declaration",
     "output_type": "error",
     "traceback": [
      "ParsingError: \n",
      "Line 6: D2{x} == -gamma * x(t) + u(t)\n",
      "bad constraint declaration\n",
      "\n",
      "Stacktrace:\n",
      " [1] macro expansion\n",
      "   @ ~/.julia/packages/CTBase/k5wSd/src/onepass.jl:48 [inlined]\n",
      " [2] macro expansion\n",
      "   @ ~/VSCode/ControlOptimo/SVM_CO/final_fijada/jl_notebook_cell_df34fa98e69747e1a8f8a730347b8e2f_W1sZmlsZQ==.jl:12 [inlined]\n",
      " [3] top-level scope\n",
      "   @ ~/.julia/packages/CTBase/k5wSd/src/onepass.jl:507"
     ]
    }
   ],
   "source": [
    "# Define the dynamics\n",
    "gamma = 1\n",
    "valores_iniciales = [80, 80] \n",
    "tf = 10\n",
    "vf = 100\n",
    "ocp = @def begin \n",
    "    t ∈ [0, tf], time\n",
    "    x ∈ R, state\n",
    "    u ∈ R, control\n",
    "    x(0) == valores_iniciales[1]\n",
    "    D{x}(0) == valores_iniciales[2]\n",
    "    D2{x} == -gamma*x(t) + u(t)\n",
    "    (D2{x}(tf)-vf)^2 -> min\n",
    "end"
   ]
  },
  {
   "cell_type": "code",
   "execution_count": null,
   "metadata": {},
   "outputs": [],
   "source": [
    "sol = solve(ocp, Ipopt.Optimizer)"
   ]
  }
 ],
 "metadata": {
  "kernelspec": {
   "display_name": "Julia 1.10.2",
   "language": "julia",
   "name": "julia-1.10"
  },
  "language_info": {
   "file_extension": ".jl",
   "mimetype": "application/julia",
   "name": "julia",
   "version": "1.10.2"
  }
 },
 "nbformat": 4,
 "nbformat_minor": 2
}
