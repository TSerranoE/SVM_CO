{
 "cells": [
  {
   "cell_type": "markdown",
   "metadata": {},
   "source": [
    "Sistema Dinámico de Rössler\n",
    "\n",
    "\\begin{aligned}\n",
    "    \\min _u \\quad & J_N(y, u)=\\int_{0}^{T}{||X(t)-X_{d}||^{2} + \\gamma||u(t)||^{2}} \\\\\n",
    "    \\text{sujeto a} \\quad & \\dot{X_1} = -X_2 - X_3 + u_1 \\\\ \n",
    "                          &  \\dot{X_2} = X_1 + aX_2 + u_2 \\\\\n",
    "                          & \\dot{X_3} = b + X_3 (X_1 - c) + u_3\n",
    "\\end{aligned}\n",
    "\n",
    " para $\\gamma$, $a$, $b$, $c$ $\\in$ $\\mathbb{R}$"
   ]
  },
  {
   "cell_type": "markdown",
   "metadata": {},
   "source": [
    "\\begin{aligned}\n",
    "    \\min _{x,\\alpha} \\quad & J_N(y, u)=\\sum_{i=1}^{N}{\\left(||\\hat{X}_{i}-X_{ref}||^{2} + \\gamma\\left(\\sum_{l=1}^{N}\\alpha_{l}K(X_{l},\\hat{X}_{i}^{1}) + \\sum_{l=1}^{N}\\alpha_{l}K(X_{l},\\hat{X}_{i}^{2}) + \\sum_{l=1}^{N}\\alpha_{l}K(X_{l},\\hat{X}_{i}^{3})\\right)^2\\right)} + \\lambda\\sum_{i=1}^{N}{\\alpha_{i}^{2}} \\\\\n",
    "    \\text{sujeto a} \\quad & \\hat{X}_{i+1}^{1} = \\hat{X_{i}^{1}} + \\frac{T}{N}\\left(-\\hat{X}_{i}^{2}-\\hat{X}_{i}^{3}+\\sum_{l=1}^{N}\\alpha_{l}K(X_{l},\\hat{X}_{i}^{1})\\right) \\qquad i = 1, \\dots N-1 \\\\ \n",
    "                            &  \\hat{X}_{i+1}^{2} = \\hat{X_{i}^{2}} + \\frac{T}{N}\\left(\\hat{X}_{i}^{1} + a\\hat{X}_{i}^{2}+\\sum_{l=1}^{N}\\alpha_{l}K(X_{l},\\hat{X}_{i}^{2})\\right) \\qquad i = 1, \\dots N-1\\\\\n",
    "                            & \\hat{X}_{i+1}^{3} = \\hat{X_{i}^{3}} + \\frac{T}{N}\\left( b + \\hat{X}_{i}^{3}(\\hat{X}_{i}^{1} - c)+\\sum_{l=1}^{N}\\alpha_{l}K(X_{l},\\hat{X}_{i}^{3})\\right) \\qquad i = 1, \\dots N-1 \n",
    "\\end{aligned}\n",
    "\n",
    "\n",
    "para $\\gamma$, $a$, $b$, $c$ $\\in$ $\\mathbb{R}$"
   ]
  }
 ],
 "metadata": {
  "language_info": {
   "name": "python"
  }
 },
 "nbformat": 4,
 "nbformat_minor": 2
}
